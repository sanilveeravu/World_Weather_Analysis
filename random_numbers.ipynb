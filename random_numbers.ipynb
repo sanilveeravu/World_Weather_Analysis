{
 "cells": [
  {
   "cell_type": "code",
   "execution_count": 33,
   "id": "bcb97642",
   "metadata": {},
   "outputs": [],
   "source": [
    "# Import the random module.\n",
    "import random\n",
    "import numpy as np\n",
    "import timeit"
   ]
  },
  {
   "cell_type": "code",
   "execution_count": 6,
   "id": "aac57336",
   "metadata": {},
   "outputs": [
    {
     "data": {
      "text/plain": [
       "38"
      ]
     },
     "execution_count": 6,
     "metadata": {},
     "output_type": "execute_result"
    }
   ],
   "source": [
    "random.randint(-90,90)"
   ]
  },
  {
   "cell_type": "code",
   "execution_count": 9,
   "id": "898193f1",
   "metadata": {},
   "outputs": [
    {
     "data": {
      "text/plain": [
       "0.02608351210181603"
      ]
     },
     "execution_count": 9,
     "metadata": {},
     "output_type": "execute_result"
    }
   ],
   "source": [
    "random.random()"
   ]
  },
  {
   "cell_type": "code",
   "execution_count": 10,
   "id": "d497dc34",
   "metadata": {},
   "outputs": [
    {
     "data": {
      "text/plain": [
       "39.9918954713273"
      ]
     },
     "execution_count": 10,
     "metadata": {},
     "output_type": "execute_result"
    }
   ],
   "source": [
    "random.uniform(-90,90)"
   ]
  },
  {
   "cell_type": "code",
   "execution_count": 13,
   "id": "3ab4593c",
   "metadata": {},
   "outputs": [
    {
     "data": {
      "text/plain": [
       "-68.77188599503874"
      ]
     },
     "execution_count": 13,
     "metadata": {},
     "output_type": "execute_result"
    }
   ],
   "source": [
    "random_number = random.randint(-90,89) + random.random()\n",
    "random_number"
   ]
  },
  {
   "cell_type": "code",
   "execution_count": 14,
   "id": "5e27100e",
   "metadata": {},
   "outputs": [
    {
     "data": {
      "text/plain": [
       "[70.23859344494565,\n",
       " -19.66469696567232,\n",
       " -88.21516878151647,\n",
       " 9.028822891679265,\n",
       " 10.609716142133854,\n",
       " -59.026743911814634,\n",
       " -44.428006349231545,\n",
       " 17.99105749764056,\n",
       " 7.313248280136658,\n",
       " -31.779302257757465]"
      ]
     },
     "execution_count": 14,
     "metadata": {},
     "output_type": "execute_result"
    }
   ],
   "source": [
    "x = 1\n",
    "\n",
    "latitudes=[]\n",
    "\n",
    "while x < 11:\n",
    "    random_lat = random.randint(-90,89) + random.random()\n",
    "    latitudes.append(random_lat)\n",
    "    x = x + 1\n",
    "\n",
    "latitudes\n",
    "    "
   ]
  },
  {
   "cell_type": "code",
   "execution_count": 19,
   "id": "fe35a9f1",
   "metadata": {},
   "outputs": [
    {
     "data": {
      "text/plain": [
       "[-87.90712897314981,\n",
       " -139.889474405407,\n",
       " 65.70422783674658,\n",
       " -123.95146090251639,\n",
       " -61.23733785899857,\n",
       " -123.0070848598,\n",
       " 133.35405579874845,\n",
       " 113.34462349706683,\n",
       " 147.45682152950533,\n",
       " -103.4825518535798]"
      ]
     },
     "execution_count": 19,
     "metadata": {},
     "output_type": "execute_result"
    }
   ],
   "source": [
    "longitudes=[]\n",
    "for x in range(10):\n",
    "    random_long = random.randint(-180,179) + random.random()\n",
    "    longitudes.append(random_long)\n",
    "longitudes "
   ]
  },
  {
   "cell_type": "code",
   "execution_count": 24,
   "id": "76586944",
   "metadata": {},
   "outputs": [
    {
     "data": {
      "text/plain": [
       "9"
      ]
     },
     "execution_count": 24,
     "metadata": {},
     "output_type": "execute_result"
    }
   ],
   "source": [
    "random.randrange(-90,90,step=3)"
   ]
  },
  {
   "cell_type": "code",
   "execution_count": 26,
   "id": "1e96b3e2",
   "metadata": {},
   "outputs": [
    {
     "data": {
      "text/plain": [
       "50.50138815196701"
      ]
     },
     "execution_count": 26,
     "metadata": {},
     "output_type": "execute_result"
    }
   ],
   "source": [
    "random.uniform(-90,90)"
   ]
  },
  {
   "cell_type": "code",
   "execution_count": 30,
   "id": "baaedc5b",
   "metadata": {},
   "outputs": [
    {
     "data": {
      "text/plain": [
       "array([-40.48495772,  59.33303473,  20.97625526,  38.78387047,\n",
       "        -6.30648509, -89.54136674,  63.5528611 ,  78.09388453,\n",
       "       -13.47470464,  -6.13667904, -76.70235367, -81.52468121,\n",
       "       -63.98083635, -56.47236584,  32.82476757, -80.44619389,\n",
       "        79.22376135,  45.31216382,  16.09710036,  66.8458386 ,\n",
       "        16.42446993,  75.64770932,  29.32449742,  42.78426468,\n",
       "       -17.47435788,  22.18590361,  33.82894547,   0.99107529,\n",
       "       -61.45723418, -10.34399519,   1.38951211,  14.64523513,\n",
       "        23.6030392 , -24.82566489, -84.8284617 , -20.62534429,\n",
       "       -68.529393  , -32.47075922,  12.19828213, -13.92134451,\n",
       "        30.2431494 , -32.77277205,  -1.23368707,  67.32424885,\n",
       "        87.42423212,  23.81064234,  83.10162279,  83.2196467 ,\n",
       "       -67.84612873, -81.78323057])"
      ]
     },
     "execution_count": 30,
     "metadata": {},
     "output_type": "execute_result"
    }
   ],
   "source": [
    "np.random.uniform(-90.000,90.000,size=50)"
   ]
  },
  {
   "cell_type": "code",
   "execution_count": 34,
   "id": "748a1358",
   "metadata": {},
   "outputs": [
    {
     "name": "stdout",
     "output_type": "stream",
     "text": [
      "14.9 µs ± 117 ns per loop (mean ± std. dev. of 7 runs, 100,000 loops each)\n"
     ]
    }
   ],
   "source": [
    "%timeit np.random.uniform(-90.000, 90.000, size=1500)"
   ]
  },
  {
   "cell_type": "code",
   "execution_count": 36,
   "id": "1f6f6189",
   "metadata": {},
   "outputs": [
    {
     "name": "stdout",
     "output_type": "stream",
     "text": [
      "1.12 ms ± 11.1 µs per loop (mean ± std. dev. of 7 runs, 1,000 loops each)\n"
     ]
    }
   ],
   "source": [
    "def latitudes(size):\n",
    "    latitudes = []\n",
    "    x = 0\n",
    "    while x < (size):\n",
    "        random_lat = random.randint(-90, 90) + random.random()\n",
    "        latitudes.append(random_lat)\n",
    "        x += 1\n",
    "    return latitudes\n",
    "# Call the function with 1500.\n",
    "%timeit latitudes(1500)"
   ]
  },
  {
   "cell_type": "code",
   "execution_count": 35,
   "id": "64ac6dfb",
   "metadata": {},
   "outputs": [
    {
     "name": "stdout",
     "output_type": "stream",
     "text": [
      "1.08 ms ± 16.6 µs per loop (mean ± std. dev. of 7 runs, 1,000 loops each)\n"
     ]
    }
   ],
   "source": [
    "def latitudes(size):\n",
    "    latitudes = []\n",
    "    for x in range(1500):\n",
    "        random_lat = random.randint(-90, 90) + random.random()\n",
    "        latitudes.append(random_lat)\n",
    "    return latitudes\n",
    "# Call the function with 1500.\n",
    "%timeit latitudes(1500)"
   ]
  },
  {
   "cell_type": "code",
   "execution_count": 37,
   "id": "0c1e0186",
   "metadata": {},
   "outputs": [
    {
     "name": "stdout",
     "output_type": "stream",
     "text": [
      "340 µs ± 857 ns per loop (mean ± std. dev. of 7 runs, 1,000 loops each)\n"
     ]
    }
   ],
   "source": [
    "def latitudes(size):\n",
    "    latitudes = []\n",
    "    for x in range(1500):\n",
    "        latitudes.append(random.uniform(-90,90))\n",
    "    return latitudes\n",
    "# Call the function with 1500.\n",
    "%timeit latitudes(1500)"
   ]
  },
  {
   "cell_type": "code",
   "execution_count": 38,
   "id": "69fd9ee4",
   "metadata": {},
   "outputs": [
    {
     "name": "stdout",
     "output_type": "stream",
     "text": [
      "388 µs ± 2.91 µs per loop (mean ± std. dev. of 7 runs, 1,000 loops each)\n"
     ]
    }
   ],
   "source": [
    "def latitudes(size):\n",
    "    latitudes = []\n",
    "    x = 0\n",
    "    while x < (size):\n",
    "        random_lat = random.uniform(-90, 90)\n",
    "        latitudes.append(random_lat)\n",
    "        x += 1\n",
    "    return latitudes\n",
    "# Call the function with 1500.\n",
    "%timeit latitudes(1500)"
   ]
  },
  {
   "cell_type": "code",
   "execution_count": null,
   "id": "7a680ada",
   "metadata": {},
   "outputs": [],
   "source": []
  }
 ],
 "metadata": {
  "kernelspec": {
   "display_name": "PythonData",
   "language": "python",
   "name": "pythondata"
  },
  "language_info": {
   "codemirror_mode": {
    "name": "ipython",
    "version": 3
   },
   "file_extension": ".py",
   "mimetype": "text/x-python",
   "name": "python",
   "nbconvert_exporter": "python",
   "pygments_lexer": "ipython3",
   "version": "3.9.7"
  }
 },
 "nbformat": 4,
 "nbformat_minor": 5
}
